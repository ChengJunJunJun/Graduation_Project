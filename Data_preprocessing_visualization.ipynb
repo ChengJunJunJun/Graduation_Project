{
 "cells": [
  {
   "cell_type": "code",
   "execution_count": null,
   "metadata": {},
   "outputs": [],
   "source": [
    "import matplotlib.pyplot as plt\n",
    "from scipy.interpolate import interp1d\n",
    "import numpy as np\n",
    "from models.crnn import RNNnet as RNNnet\n",
    "import torch\n",
    "\n",
    "\n",
    "eta00 = np.load('data/chengjun_new')\n",
    "print(eta00.shape)\n",
    "t = np.linspace(1, 1000, 1000) \n",
    "# actual = interp1d(x, actual, kind='cubic')\n",
    "# prediction = interp1d(x,prediction, kind='cubic')\n",
    "# x_dense = np.linspace(1, 100, 1000)\n",
    "\n",
    "plt.figure(figsize=(10, 6))\n",
    "plt.plot(t, eta00[:1000,0], '--', label='Actual')\n",
    "# plt.plot(x_dense, prediction(x_dense), '-', label='Prediction')\n",
    "plt.legend()\n",
    "# plt.title(f'time{time}')\n",
    "plt.xlabel('x (100 points)')\n",
    "plt.ylabel('Wave Height')\n",
    "plt.grid(True)\n",
    "plt.show()"
   ]
  }
 ],
 "metadata": {
  "kernelspec": {
   "display_name": "PyTorch",
   "language": "python",
   "name": "python3"
  },
  "language_info": {
   "name": "python",
   "version": "3.10.13"
  }
 },
 "nbformat": 4,
 "nbformat_minor": 2
}
